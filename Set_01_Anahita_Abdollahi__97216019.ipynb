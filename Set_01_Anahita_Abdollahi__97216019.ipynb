{
  "nbformat": 4,
  "nbformat_minor": 0,
  "metadata": {
    "colab": {
      "name": "Copy of Copy of Set_01_Anahita_Abdollahi_ 97216019.ipynb",
      "provenance": [],
      "collapsed_sections": [
        "03P8_w5l-Qeo",
        "_6aNCn3BEsI9",
        "tabEhDpGF2Oc",
        "I7CQa_pOGqeR",
        "oKPq6XV_Hn_i",
        "k55bka7DJAjh",
        "8ZTtQ6ZnGMOL",
        "mxwqFfuUIh8z",
        "Aljr12tMI-Vl",
        "XRiARr0OJVY-",
        "DL-uBXefKbIS",
        "saZ3z0KYTUWj"
      ]
    },
    "kernelspec": {
      "name": "python3",
      "display_name": "Python 3"
    },
    "language_info": {
      "name": "python"
    }
  },
  "cells": [
    {
      "cell_type": "markdown",
      "source": [
        "The first program"
      ],
      "metadata": {
        "id": "RlM5hY6G-ChB"
      }
    },
    {
      "cell_type": "code",
      "execution_count": null,
      "metadata": {
        "colab": {
          "base_uri": "https://localhost:8080/"
        },
        "id": "0pr3r94U9pKV",
        "outputId": "f892de44-3141-4e98-a8b7-c694ba024d91"
      },
      "outputs": [
        {
          "output_type": "stream",
          "name": "stdout",
          "text": [
            "Hello world!\n"
          ]
        }
      ],
      "source": [
        "print('Hello world!')"
      ]
    },
    {
      "cell_type": "markdown",
      "source": [
        "## Lists, sets and tuples"
      ],
      "metadata": {
        "id": "03P8_w5l-Qeo"
      }
    },
    {
      "cell_type": "code",
      "source": [
        "a = [1, 1, 2, 3, 5, 2, 6, 7, 7, 5]  #This is a list\n",
        "b = {1, 1, 2, 3, 5, 2, 6, 7, 7, 5}  #This is a set\n",
        "c = (1, 1, 2, 3, 5, 2, 6, 7, 7, 5)  #This is a tuple"
      ],
      "metadata": {
        "id": "b62OnUiR-JmP"
      },
      "execution_count": null,
      "outputs": []
    },
    {
      "cell_type": "markdown",
      "source": [
        "Now print each one to see what's the difference between them."
      ],
      "metadata": {
        "id": "BWK-UpXh_mCD"
      }
    },
    {
      "cell_type": "code",
      "source": [
        "print('a =', a)\n",
        "print('b =', b)\n",
        "print('c =', c)"
      ],
      "metadata": {
        "colab": {
          "base_uri": "https://localhost:8080/"
        },
        "id": "IbV7UwrT_Ws4",
        "outputId": "de628a2c-4b67-4400-8c3b-c4b0572f4c91"
      },
      "execution_count": null,
      "outputs": [
        {
          "output_type": "stream",
          "name": "stdout",
          "text": [
            "a = [1, 1, 2, 3, 5, 2, 6, 7, 7, 5]\n",
            "b = {1, 2, 3, 5, 6, 7}\n",
            "c = (1, 1, 2, 3, 5, 2, 6, 7, 7, 5)\n"
          ]
        }
      ]
    },
    {
      "cell_type": "markdown",
      "source": [
        "As you see, sets behave in the way that we expect from math, they only keep one instance of each member and disregard the rest. We can put all kinds of objects in a set, list or tuple."
      ],
      "metadata": {
        "id": "hxbBiYR-_vOM"
      }
    },
    {
      "cell_type": "code",
      "source": [
        "d = ['Salam', 'Sib', 35.43, 12, b, 'x'+'y', 44]\n",
        "print(d)"
      ],
      "metadata": {
        "colab": {
          "base_uri": "https://localhost:8080/"
        },
        "id": "3A2HVSGk_hyF",
        "outputId": "6e8417ed-9a28-432f-f871-9defa7b372d9"
      },
      "execution_count": null,
      "outputs": [
        {
          "output_type": "stream",
          "name": "stdout",
          "text": [
            "['Salam', 'Sib', 35.43, 12, {1, 2, 3, 5, 6, 7}, 'xy', 44]\n"
          ]
        }
      ]
    },
    {
      "cell_type": "markdown",
      "source": [
        " Also try this for a set and a tuple and print the results."
      ],
      "metadata": {
        "id": "kQ6QFyvABDlu"
      }
    },
    {
      "cell_type": "code",
      "source": [
        "e = {25, 'wonder', 0.98, 25}\n",
        "#you can't but a list in a set \n",
        "d = (0.23, 65, 'hit', a, b, c)\n",
        "#but you can put anything in a tuple\n",
        "print(e)\n",
        "print(d)"
      ],
      "metadata": {
        "id": "VPQyjZzfATxQ",
        "colab": {
          "base_uri": "https://localhost:8080/"
        },
        "outputId": "1f699b47-876c-441c-e2e6-dbda7b14ae94"
      },
      "execution_count": null,
      "outputs": [
        {
          "output_type": "stream",
          "name": "stdout",
          "text": [
            "{0.98, 25, 'wonder'}\n",
            "(0.23, 65, 'hit', [1, 1, 2, 3, 5, 2, 6, 7, 7, 5], {1, 2, 3, 5, 6, 7}, (1, 1, 2, 3, 5, 2, 6, 7, 7, 5))\n"
          ]
        }
      ]
    },
    {
      "cell_type": "markdown",
      "source": [
        "Now let's see the differense between lists and tuples."
      ],
      "metadata": {
        "id": "85cvYMhjCM8Z"
      }
    },
    {
      "cell_type": "code",
      "source": [
        "a.append([32, 54, 'Adas'])\n",
        "print(a)"
      ],
      "metadata": {
        "colab": {
          "base_uri": "https://localhost:8080/"
        },
        "id": "OqFUXYSLBTwy",
        "outputId": "5b368dc1-51a7-4433-c472-11e834d7193c"
      },
      "execution_count": null,
      "outputs": [
        {
          "output_type": "stream",
          "name": "stdout",
          "text": [
            "[1, 1, 2, 3, 5, 2, 6, 7, 7, 5, [32, 54, 'Adas']]\n"
          ]
        }
      ]
    },
    {
      "cell_type": "code",
      "source": [
        "a.remove(7)\n",
        "print(a)"
      ],
      "metadata": {
        "colab": {
          "base_uri": "https://localhost:8080/"
        },
        "id": "zoa1EKeRC7d1",
        "outputId": "ad82eefa-894d-4ab7-f0f2-95e18f8c2611"
      },
      "execution_count": null,
      "outputs": [
        {
          "output_type": "stream",
          "name": "stdout",
          "text": [
            "[1, 1, 2, 2, 3, 5, 5, 6, 7, [32, 54, 'Adas']]\n"
          ]
        }
      ]
    },
    {
      "cell_type": "code",
      "source": [
        "c.count(1)"
      ],
      "metadata": {
        "colab": {
          "base_uri": "https://localhost:8080/"
        },
        "id": "oqhRk2cmDHYq",
        "outputId": "efa12f7b-4ee2-4c0f-fc45-a8c93a7cf787"
      },
      "execution_count": null,
      "outputs": [
        {
          "output_type": "execute_result",
          "data": {
            "text/plain": [
              "2"
            ]
          },
          "metadata": {},
          "execution_count": 27
        }
      ]
    },
    {
      "cell_type": "markdown",
      "source": [
        "In general, tuples are faster than lists, but lists have many more atributes and options. To see which options either have, type the variable with dot (\".\") after it and wait to see the options. To see what each option will do, you can type a question mark (\"?\") before it and run the cell. Now run the cell below and see what happens."
      ],
      "metadata": {
        "id": "DdHn5DE_DYcT"
      }
    },
    {
      "cell_type": "code",
      "source": [
        "?a.sort\n"
      ],
      "metadata": {
        "id": "oCXXkeiYDRVU"
      },
      "execution_count": null,
      "outputs": []
    },
    {
      "cell_type": "markdown",
      "source": [
        "Now using the options introduced above, try to make the list \"a\" to look like the tuple \"c\"."
      ],
      "metadata": {
        "id": "lBgLNtc5FBRd"
      }
    },
    {
      "cell_type": "code",
      "source": [
        "a = [1, 1, 2, 3, 5, 2, 6, 7, 7, 5, [32, 54, 'Adas']]\n",
        "a.pop(10)\n",
        "print('a =', a)"
      ],
      "metadata": {
        "id": "xIzDK-nzFRMx",
        "colab": {
          "base_uri": "https://localhost:8080/"
        },
        "outputId": "f979840d-7ebc-40a5-95c9-317dc320d062"
      },
      "execution_count": null,
      "outputs": [
        {
          "output_type": "stream",
          "name": "stdout",
          "text": [
            "a = [1, 1, 2, 3, 5, 2, 6, 7, 7, 5]\n"
          ]
        }
      ]
    },
    {
      "cell_type": "markdown",
      "source": [
        "# Loops and indexing"
      ],
      "metadata": {
        "id": "_6aNCn3BEsI9"
      }
    },
    {
      "cell_type": "markdown",
      "source": [
        "You can access the members of a list (or tuple) with indexing them as follows:"
      ],
      "metadata": {
        "id": "MOyuvrKdE1Uo"
      }
    },
    {
      "cell_type": "code",
      "source": [
        "print('The first member of tuple \"c\" is:', c[0])\n",
        "print('The third member of tuple \"c\" is:', c[2])\n",
        "print('The last member of tuple \"c\" is:', c[-1])\n",
        "print('The third to last member of tuple \"c\" is:',c[-3])"
      ],
      "metadata": {
        "colab": {
          "base_uri": "https://localhost:8080/"
        },
        "id": "1QpIBOKOEXG3",
        "outputId": "3577363f-129d-4d25-d973-11f10e2ceffd"
      },
      "execution_count": null,
      "outputs": [
        {
          "output_type": "stream",
          "name": "stdout",
          "text": [
            "The first member of tuple \"c\" is: 1\n",
            "The third member of tuple \"c\" is: 2\n",
            "The last member of tuple \"c\" is: 5\n",
            "The third to last member of tuple \"c\" is: 7\n"
          ]
        }
      ]
    },
    {
      "cell_type": "markdown",
      "source": [
        "## For loops\n",
        "Let's see two examples"
      ],
      "metadata": {
        "id": "tabEhDpGF2Oc"
      }
    },
    {
      "cell_type": "code",
      "source": [
        "for i in range(5):\n",
        "  print(i)"
      ],
      "metadata": {
        "colab": {
          "base_uri": "https://localhost:8080/"
        },
        "id": "jpW9oM01FfdT",
        "outputId": "9b73405c-ba36-4a0f-8507-48bac7e6723e"
      },
      "execution_count": null,
      "outputs": [
        {
          "output_type": "stream",
          "name": "stdout",
          "text": [
            "0\n",
            "1\n",
            "2\n",
            "3\n",
            "4\n"
          ]
        }
      ]
    },
    {
      "cell_type": "code",
      "source": [
        "for cc in c:\n",
        "  print(cc**2)"
      ],
      "metadata": {
        "colab": {
          "base_uri": "https://localhost:8080/"
        },
        "id": "O5_YYt9uGDfk",
        "outputId": "6764a341-48a5-44ce-fe70-b45af04e501c"
      },
      "execution_count": null,
      "outputs": [
        {
          "output_type": "stream",
          "name": "stdout",
          "text": [
            "1\n",
            "1\n",
            "4\n",
            "9\n",
            "25\n",
            "4\n",
            "36\n",
            "49\n",
            "49\n",
            "25\n"
          ]
        }
      ]
    },
    {
      "cell_type": "markdown",
      "source": [
        "Now write a code to print the members of \"a\" list defiend as below in reverse order."
      ],
      "metadata": {
        "id": "Ewev8_ZtGU9w"
      }
    },
    {
      "cell_type": "code",
      "source": [
        "a = [1, 1, 2, 3, 5, 2, 6, 7, 7, 5, [32, 54, 'Adas']]\n",
        "\n",
        "for i in range(1, 12):\n",
        " print (a[-i])"
      ],
      "metadata": {
        "id": "tPYkPZgTGRBz",
        "colab": {
          "base_uri": "https://localhost:8080/"
        },
        "outputId": "75a5274a-2fec-4d5e-dbad-3eac1b76bcc3"
      },
      "execution_count": null,
      "outputs": [
        {
          "output_type": "stream",
          "name": "stdout",
          "text": [
            "[32, 54, 'Adas']\n",
            "5\n",
            "7\n",
            "7\n",
            "6\n",
            "2\n",
            "5\n",
            "3\n",
            "2\n",
            "1\n",
            "1\n"
          ]
        }
      ]
    },
    {
      "cell_type": "markdown",
      "source": [
        "## While loops\n",
        "It runs while the argument is true. Compelete the code below to get the desired result."
      ],
      "metadata": {
        "id": "I7CQa_pOGqeR"
      }
    },
    {
      "cell_type": "code",
      "source": [
        "i = 10\n",
        "while i >= 0:\n",
        "  print(a[i])\n",
        "  i=i-1\n",
        "\n",
        "  "
      ],
      "metadata": {
        "colab": {
          "base_uri": "https://localhost:8080/"
        },
        "id": "0pQ3WhhCGn6h",
        "outputId": "27049cf7-c4ce-40d5-fdbd-79c62272f979"
      },
      "execution_count": null,
      "outputs": [
        {
          "output_type": "stream",
          "name": "stdout",
          "text": [
            "[32, 54, 'Adas']\n",
            "5\n",
            "7\n",
            "7\n",
            "6\n",
            "2\n",
            "5\n",
            "3\n",
            "2\n",
            "1\n",
            "1\n"
          ]
        }
      ]
    },
    {
      "cell_type": "markdown",
      "source": [
        "# if, else, elif"
      ],
      "metadata": {
        "id": "oKPq6XV_Hn_i"
      }
    },
    {
      "cell_type": "code",
      "source": [
        "x = 5\n",
        "\n",
        "if x > 5:\n",
        "  print('Yay!!')\n",
        "\n",
        "elif x < 5:\n",
        "  print(\"Nay :(\")\n",
        "\n",
        "else:\n",
        "  print(\"Meh..\")"
      ],
      "metadata": {
        "colab": {
          "base_uri": "https://localhost:8080/"
        },
        "id": "Nnq513PxHOpD",
        "outputId": "013f38b2-f259-4b5f-ffcd-13ffd4a55624"
      },
      "execution_count": null,
      "outputs": [
        {
          "output_type": "stream",
          "name": "stdout",
          "text": [
            "Meh..\n"
          ]
        }
      ]
    },
    {
      "cell_type": "markdown",
      "source": [
        "Now using the example provided above and your knowledge of loops, write a piece of code to print the apropriate messages for each member of the tuple \"c\". "
      ],
      "metadata": {
        "id": "H27B7x6oIOj6"
      }
    },
    {
      "cell_type": "code",
      "source": [
        "c = (1, 1, 2, 3, 5, 2, 6, 7, 7, 5)\n",
        "for i in c:\n",
        "  if i>5:\n",
        "    print('Yay!')\n",
        "\n",
        "  elif i<5:\n",
        "    print('Nay :(')\n",
        "\n",
        "  else:\n",
        "    print ('Meh..')\n",
        " \n",
        "    \n"
      ],
      "metadata": {
        "id": "qtUvveC4IMh5",
        "colab": {
          "base_uri": "https://localhost:8080/"
        },
        "outputId": "40c2aaf9-57aa-4665-a1a2-fe049293c7aa"
      },
      "execution_count": null,
      "outputs": [
        {
          "output_type": "stream",
          "name": "stdout",
          "text": [
            "Nay :(\n",
            "Nay :(\n",
            "Nay :(\n",
            "Nay :(\n",
            "Meh..\n",
            "Nay :(\n",
            "Yay!\n",
            "Yay!\n",
            "Yay!\n",
            "Meh..\n"
          ]
        }
      ]
    },
    {
      "cell_type": "markdown",
      "source": [
        "# Libraries"
      ],
      "metadata": {
        "id": "k55bka7DJAjh"
      }
    },
    {
      "cell_type": "markdown",
      "source": [
        "Libraries are collections of many pre-written programs that enable us to write code much more easily. In other words, it's like importing a library expands available python commands.\n",
        "\n",
        "There are three ways to import commands from library.\n",
        "\n",
        "### 1) Import the whole library"
      ],
      "metadata": {
        "id": "8ZTtQ6ZnGMOL"
      }
    },
    {
      "cell_type": "code",
      "source": [
        "import time"
      ],
      "metadata": {
        "id": "ocTrk5zdJEli"
      },
      "execution_count": 13,
      "outputs": []
    },
    {
      "cell_type": "markdown",
      "source": [
        "Now we can use the commands inside \"time\" by using the familirar \"dot\" operator."
      ],
      "metadata": {
        "id": "qOaiUuJKHBZE"
      }
    },
    {
      "cell_type": "code",
      "source": [
        "print(time.localtime())"
      ],
      "metadata": {
        "colab": {
          "base_uri": "https://localhost:8080/"
        },
        "id": "AX7uLHGSHVBo",
        "outputId": "366f54c9-0f71-4761-efc7-ffff661eced1"
      },
      "execution_count": 14,
      "outputs": [
        {
          "output_type": "stream",
          "name": "stdout",
          "text": [
            "time.struct_time(tm_year=2022, tm_mon=2, tm_mday=25, tm_hour=14, tm_min=0, tm_sec=1, tm_wday=4, tm_yday=56, tm_isdst=0)\n"
          ]
        }
      ]
    },
    {
      "cell_type": "markdown",
      "source": [
        "### 2) Import certain functions (or classes) from a library"
      ],
      "metadata": {
        "id": "mxwqFfuUIh8z"
      }
    },
    {
      "cell_type": "code",
      "source": [
        "from math import pi, sin"
      ],
      "metadata": {
        "id": "fvhfYqyfIVJO"
      },
      "execution_count": 15,
      "outputs": []
    },
    {
      "cell_type": "code",
      "source": [
        "print(sin(pi/2))"
      ],
      "metadata": {
        "colab": {
          "base_uri": "https://localhost:8080/"
        },
        "id": "LpVcic_mI4tG",
        "outputId": "890be49a-0bdd-4610-9a34-92deb78729bd"
      },
      "execution_count": 16,
      "outputs": [
        {
          "output_type": "stream",
          "name": "stdout",
          "text": [
            "1.0\n"
          ]
        }
      ]
    },
    {
      "cell_type": "markdown",
      "source": [
        "### 3) Import the whole library or certain commands with a different name"
      ],
      "metadata": {
        "id": "Aljr12tMI-Vl"
      }
    },
    {
      "cell_type": "code",
      "source": [
        "import numpy as np\n",
        "from matplotlib import pyplot as plt"
      ],
      "metadata": {
        "id": "iSpdWAgCI7S6"
      },
      "execution_count": 17,
      "outputs": []
    },
    {
      "cell_type": "markdown",
      "source": [
        "We are going to learn how to use these two libraries in the next section.\n",
        "\n",
        "## Installing new libraries in Google colab\n",
        "\n",
        "To do this you need the command \"pip\"."
      ],
      "metadata": {
        "id": "XRiARr0OJVY-"
      }
    },
    {
      "cell_type": "code",
      "source": [
        "!pip install sxs"
      ],
      "metadata": {
        "id": "bcFsepOnJROc",
        "colab": {
          "base_uri": "https://localhost:8080/",
          "height": 0
        },
        "outputId": "bedde748-e4d2-463a-fd50-440a6c803175"
      },
      "execution_count": 18,
      "outputs": [
        {
          "output_type": "stream",
          "name": "stdout",
          "text": [
            "Collecting sxs\n",
            "  Downloading sxs-2021.0.5-py3-none-any.whl (177 kB)\n",
            "\u001b[?25l\r\u001b[K     |█▉                              | 10 kB 22.5 MB/s eta 0:00:01\r\u001b[K     |███▊                            | 20 kB 15.2 MB/s eta 0:00:01\r\u001b[K     |█████▌                          | 30 kB 10.8 MB/s eta 0:00:01\r\u001b[K     |███████▍                        | 40 kB 9.3 MB/s eta 0:00:01\r\u001b[K     |█████████▎                      | 51 kB 4.4 MB/s eta 0:00:01\r\u001b[K     |███████████                     | 61 kB 5.2 MB/s eta 0:00:01\r\u001b[K     |█████████████                   | 71 kB 5.6 MB/s eta 0:00:01\r\u001b[K     |██████████████▊                 | 81 kB 5.8 MB/s eta 0:00:01\r\u001b[K     |████████████████▋               | 92 kB 6.4 MB/s eta 0:00:01\r\u001b[K     |██████████████████▌             | 102 kB 5.1 MB/s eta 0:00:01\r\u001b[K     |████████████████████▎           | 112 kB 5.1 MB/s eta 0:00:01\r\u001b[K     |██████████████████████▏         | 122 kB 5.1 MB/s eta 0:00:01\r\u001b[K     |████████████████████████        | 133 kB 5.1 MB/s eta 0:00:01\r\u001b[K     |█████████████████████████▉      | 143 kB 5.1 MB/s eta 0:00:01\r\u001b[K     |███████████████████████████▊    | 153 kB 5.1 MB/s eta 0:00:01\r\u001b[K     |█████████████████████████████▌  | 163 kB 5.1 MB/s eta 0:00:01\r\u001b[K     |███████████████████████████████▍| 174 kB 5.1 MB/s eta 0:00:01\r\u001b[K     |████████████████████████████████| 177 kB 5.1 MB/s \n",
            "\u001b[?25hCollecting inflection<0.6.0,>=0.5.1\n",
            "  Downloading inflection-0.5.1-py2.py3-none-any.whl (9.5 kB)\n",
            "Collecting quaternionic<2.0,>=1.0\n",
            "  Downloading quaternionic-1.0.1-py3-none-any.whl (34 kB)\n",
            "Collecting tqdm<4.61.2,>=4.48.2\n",
            "  Downloading tqdm-4.61.1-py2.py3-none-any.whl (75 kB)\n",
            "\u001b[K     |████████████████████████████████| 75 kB 4.5 MB/s \n",
            "\u001b[?25hRequirement already satisfied: pandas<2.0.0,>=1.1.2 in /usr/local/lib/python3.7/dist-packages (from sxs) (1.3.5)\n",
            "Collecting urllib3<2.0.0,>=1.25.10\n",
            "  Downloading urllib3-1.26.8-py2.py3-none-any.whl (138 kB)\n",
            "\u001b[K     |████████████████████████████████| 138 kB 53.7 MB/s \n",
            "\u001b[?25hCollecting black>=20.8b1\n",
            "  Downloading black-22.1.0-cp37-cp37m-manylinux_2_17_x86_64.manylinux2014_x86_64.whl (1.4 MB)\n",
            "\u001b[K     |████████████████████████████████| 1.4 MB 52.1 MB/s \n",
            "\u001b[?25hCollecting pylatexenc<3.0,>=2.7\n",
            "  Downloading pylatexenc-2.10.tar.gz (162 kB)\n",
            "\u001b[K     |████████████████████████████████| 162 kB 57.2 MB/s \n",
            "\u001b[?25hCollecting spinsfast<105,>=104\n",
            "  Downloading spinsfast-104.2022.2.8.21.41.41.tar.gz (986 kB)\n",
            "\u001b[K     |████████████████████████████████| 986 kB 47.6 MB/s \n",
            "\u001b[?25h  Installing build dependencies ... \u001b[?25l\u001b[?25hdone\n",
            "  Getting requirements to build wheel ... \u001b[?25l\u001b[?25hdone\n",
            "    Preparing wheel metadata ... \u001b[?25l\u001b[?25hdone\n",
            "\u001b[33mWARNING: Discarding https://files.pythonhosted.org/packages/f4/39/82a434b8173f62bd63a3aeb1969aaf2842518cfef54b39cd88d7c41b55aa/spinsfast-104.2022.2.8.21.41.41.tar.gz#sha256=085a6337730e79cb4a1a74e239d870597f11be7c955c2ee15aaf7af46616715d (from https://pypi.org/simple/spinsfast/). Requested spinsfast<105,>=104 from https://files.pythonhosted.org/packages/f4/39/82a434b8173f62bd63a3aeb1969aaf2842518cfef54b39cd88d7c41b55aa/spinsfast-104.2022.2.8.21.41.41.tar.gz#sha256=085a6337730e79cb4a1a74e239d870597f11be7c955c2ee15aaf7af46616715d (from sxs) has inconsistent version: filename has '104.2022.2.8.21.41.41', but metadata has '104.2022.2.25.14.0.12'\u001b[0m\n",
            "  Downloading spinsfast-104.2021.3.22.15.7.51-cp37-cp37m-manylinux1_x86_64.whl (539 kB)\n",
            "\u001b[K     |████████████████████████████████| 539 kB 28.7 MB/s \n",
            "\u001b[?25hCollecting pytz<2021.0,>=2020.1\n",
            "  Downloading pytz-2020.5-py2.py3-none-any.whl (510 kB)\n",
            "\u001b[K     |████████████████████████████████| 510 kB 53.2 MB/s \n",
            "\u001b[?25hCollecting spherical<2.0,>=1.0\n",
            "  Downloading spherical-1.0.10-py3-none-any.whl (54 kB)\n",
            "\u001b[K     |████████████████████████████████| 54 kB 2.7 MB/s \n",
            "\u001b[?25hCollecting importlib-metadata<2.0,>=1.0\n",
            "  Downloading importlib_metadata-1.7.0-py2.py3-none-any.whl (31 kB)\n",
            "Requirement already satisfied: numpy<2.0,>=1.15 in /usr/local/lib/python3.7/dist-packages (from sxs) (1.21.5)\n",
            "Requirement already satisfied: h5py<4,>=3 in /usr/local/lib/python3.7/dist-packages (from sxs) (3.1.0)\n",
            "Collecting feedparser<7.0.0,>=6.0.1\n",
            "  Downloading feedparser-6.0.8-py3-none-any.whl (81 kB)\n",
            "\u001b[K     |████████████████████████████████| 81 kB 9.0 MB/s \n",
            "\u001b[?25hCollecting pytest-forked<2.0.0,>=1.3.0\n",
            "  Downloading pytest_forked-1.4.0-py3-none-any.whl (4.9 kB)\n",
            "Collecting requests<3.0.0,>=2.24.0\n",
            "  Downloading requests-2.27.1-py2.py3-none-any.whl (63 kB)\n",
            "\u001b[K     |████████████████████████████████| 63 kB 1.6 MB/s \n",
            "\u001b[?25hRequirement already satisfied: numba>=0.50 in /usr/local/lib/python3.7/dist-packages (from sxs) (0.51.2)\n",
            "Requirement already satisfied: scipy<2.0,>=1.0 in /usr/local/lib/python3.7/dist-packages (from sxs) (1.4.1)\n",
            "Collecting typed-ast>=1.4.2\n",
            "  Downloading typed_ast-1.5.2-cp37-cp37m-manylinux_2_5_x86_64.manylinux1_x86_64.manylinux_2_12_x86_64.manylinux2010_x86_64.whl (843 kB)\n",
            "\u001b[K     |████████████████████████████████| 843 kB 56.1 MB/s \n",
            "\u001b[?25hRequirement already satisfied: tomli>=1.1.0 in /usr/local/lib/python3.7/dist-packages (from black>=20.8b1->sxs) (2.0.1)\n",
            "Requirement already satisfied: typing-extensions>=3.10.0.0 in /usr/local/lib/python3.7/dist-packages (from black>=20.8b1->sxs) (3.10.0.2)\n",
            "Collecting pathspec>=0.9.0\n",
            "  Downloading pathspec-0.9.0-py2.py3-none-any.whl (31 kB)\n",
            "Collecting platformdirs>=2\n",
            "  Downloading platformdirs-2.5.1-py3-none-any.whl (14 kB)\n",
            "Collecting click>=8.0.0\n",
            "  Downloading click-8.0.4-py3-none-any.whl (97 kB)\n",
            "\u001b[K     |████████████████████████████████| 97 kB 7.2 MB/s \n",
            "\u001b[?25hCollecting mypy-extensions>=0.4.3\n",
            "  Downloading mypy_extensions-0.4.3-py2.py3-none-any.whl (4.5 kB)\n",
            "Collecting sgmllib3k\n",
            "  Downloading sgmllib3k-1.0.0.tar.gz (5.8 kB)\n",
            "Requirement already satisfied: cached-property in /usr/local/lib/python3.7/dist-packages (from h5py<4,>=3->sxs) (1.5.2)\n",
            "Requirement already satisfied: zipp>=0.5 in /usr/local/lib/python3.7/dist-packages (from importlib-metadata<2.0,>=1.0->sxs) (3.7.0)\n",
            "Requirement already satisfied: setuptools in /usr/local/lib/python3.7/dist-packages (from numba>=0.50->sxs) (57.4.0)\n",
            "Requirement already satisfied: llvmlite<0.35,>=0.34.0.dev0 in /usr/local/lib/python3.7/dist-packages (from numba>=0.50->sxs) (0.34.0)\n",
            "Requirement already satisfied: python-dateutil>=2.7.3 in /usr/local/lib/python3.7/dist-packages (from pandas<2.0.0,>=1.1.2->sxs) (2.8.2)\n",
            "Collecting pytest>=3.10\n",
            "  Downloading pytest-7.0.1-py3-none-any.whl (296 kB)\n",
            "\u001b[K     |████████████████████████████████| 296 kB 51.3 MB/s \n",
            "\u001b[?25hRequirement already satisfied: py in /usr/local/lib/python3.7/dist-packages (from pytest-forked<2.0.0,>=1.3.0->sxs) (1.11.0)\n",
            "Collecting pluggy<2.0,>=0.12\n",
            "  Downloading pluggy-1.0.0-py2.py3-none-any.whl (13 kB)\n",
            "Requirement already satisfied: packaging in /usr/local/lib/python3.7/dist-packages (from pytest>=3.10->pytest-forked<2.0.0,>=1.3.0->sxs) (21.3)\n",
            "Requirement already satisfied: attrs>=19.2.0 in /usr/local/lib/python3.7/dist-packages (from pytest>=3.10->pytest-forked<2.0.0,>=1.3.0->sxs) (21.4.0)\n",
            "Requirement already satisfied: iniconfig in /usr/local/lib/python3.7/dist-packages (from pytest>=3.10->pytest-forked<2.0.0,>=1.3.0->sxs) (1.1.1)\n",
            "Requirement already satisfied: six>=1.5 in /usr/local/lib/python3.7/dist-packages (from python-dateutil>=2.7.3->pandas<2.0.0,>=1.1.2->sxs) (1.15.0)\n",
            "Requirement already satisfied: charset-normalizer~=2.0.0 in /usr/local/lib/python3.7/dist-packages (from requests<3.0.0,>=2.24.0->sxs) (2.0.12)\n",
            "Requirement already satisfied: certifi>=2017.4.17 in /usr/local/lib/python3.7/dist-packages (from requests<3.0.0,>=2.24.0->sxs) (2021.10.8)\n",
            "Requirement already satisfied: idna<4,>=2.5 in /usr/local/lib/python3.7/dist-packages (from requests<3.0.0,>=2.24.0->sxs) (2.10)\n",
            "Requirement already satisfied: pyparsing!=3.0.5,>=2.0.2 in /usr/local/lib/python3.7/dist-packages (from packaging->pytest>=3.10->pytest-forked<2.0.0,>=1.3.0->sxs) (3.0.7)\n",
            "Building wheels for collected packages: pylatexenc, sgmllib3k\n",
            "  Building wheel for pylatexenc (setup.py) ... \u001b[?25l\u001b[?25hdone\n",
            "  Created wheel for pylatexenc: filename=pylatexenc-2.10-py3-none-any.whl size=136835 sha256=4e86545df58baf5912dda9d31fb60c03d8a3a585e10af088f0290e46dde8c55d\n",
            "  Stored in directory: /root/.cache/pip/wheels/f1/8a/f5/33ee79d4473eb201b519fa40f989b842e373237395a3421f52\n",
            "  Building wheel for sgmllib3k (setup.py) ... \u001b[?25l\u001b[?25hdone\n",
            "  Created wheel for sgmllib3k: filename=sgmllib3k-1.0.0-py3-none-any.whl size=6066 sha256=ade26414a28b404e5a428012135eccd4c64e89e15ce3740feff0b2115d17e377\n",
            "  Stored in directory: /root/.cache/pip/wheels/73/ad/a4/0dff4a6ef231fc0dfa12ffbac2a36cebfdddfe059f50e019aa\n",
            "Successfully built pylatexenc sgmllib3k\n",
            "Installing collected packages: importlib-metadata, typed-ast, platformdirs, pathspec, mypy-extensions, click, pluggy, black, urllib3, spinsfast, sgmllib3k, quaternionic, pytz, pytest, tqdm, spherical, requests, pytest-forked, pylatexenc, inflection, feedparser, sxs\n",
            "  Attempting uninstall: importlib-metadata\n",
            "    Found existing installation: importlib-metadata 4.11.1\n",
            "    Uninstalling importlib-metadata-4.11.1:\n",
            "      Successfully uninstalled importlib-metadata-4.11.1\n",
            "  Attempting uninstall: click\n",
            "    Found existing installation: click 7.1.2\n",
            "    Uninstalling click-7.1.2:\n",
            "      Successfully uninstalled click-7.1.2\n",
            "  Attempting uninstall: pluggy\n",
            "    Found existing installation: pluggy 0.7.1\n",
            "    Uninstalling pluggy-0.7.1:\n",
            "      Successfully uninstalled pluggy-0.7.1\n",
            "  Attempting uninstall: urllib3\n",
            "    Found existing installation: urllib3 1.24.3\n",
            "    Uninstalling urllib3-1.24.3:\n",
            "      Successfully uninstalled urllib3-1.24.3\n",
            "  Attempting uninstall: pytz\n",
            "    Found existing installation: pytz 2018.9\n",
            "    Uninstalling pytz-2018.9:\n",
            "      Successfully uninstalled pytz-2018.9\n",
            "  Attempting uninstall: pytest\n",
            "    Found existing installation: pytest 3.6.4\n",
            "    Uninstalling pytest-3.6.4:\n",
            "      Successfully uninstalled pytest-3.6.4\n",
            "  Attempting uninstall: tqdm\n",
            "    Found existing installation: tqdm 4.62.3\n",
            "    Uninstalling tqdm-4.62.3:\n",
            "      Successfully uninstalled tqdm-4.62.3\n",
            "  Attempting uninstall: requests\n",
            "    Found existing installation: requests 2.23.0\n",
            "    Uninstalling requests-2.23.0:\n",
            "      Successfully uninstalled requests-2.23.0\n",
            "\u001b[31mERROR: pip's dependency resolver does not currently take into account all the packages that are installed. This behaviour is the source of the following dependency conflicts.\n",
            "markdown 3.3.6 requires importlib-metadata>=4.4; python_version < \"3.10\", but you have importlib-metadata 1.7.0 which is incompatible.\n",
            "google-colab 1.0.0 requires requests~=2.23.0, but you have requests 2.27.1 which is incompatible.\n",
            "flask 1.1.4 requires click<8.0,>=5.1, but you have click 8.0.4 which is incompatible.\n",
            "datascience 0.10.6 requires folium==0.2.1, but you have folium 0.8.3 which is incompatible.\u001b[0m\n",
            "Successfully installed black-22.1.0 click-8.0.4 feedparser-6.0.8 importlib-metadata-1.7.0 inflection-0.5.1 mypy-extensions-0.4.3 pathspec-0.9.0 platformdirs-2.5.1 pluggy-1.0.0 pylatexenc-2.10 pytest-7.0.1 pytest-forked-1.4.0 pytz-2020.5 quaternionic-1.0.1 requests-2.27.1 sgmllib3k-1.0.0 spherical-1.0.10 spinsfast-104.2021.3.22.15.7.51 sxs-2021.0.5 tqdm-4.61.1 typed-ast-1.5.2 urllib3-1.26.8\n"
          ]
        },
        {
          "output_type": "display_data",
          "data": {
            "application/vnd.colab-display-data+json": {
              "pip_warning": {
                "packages": [
                  "pytz"
                ]
              }
            }
          },
          "metadata": {}
        }
      ]
    },
    {
      "cell_type": "markdown",
      "source": [
        "'sxs' is a library for simulation gravitational waves. We won't be needing this in this course."
      ],
      "metadata": {
        "id": "uGJRJ9JzKQ2F"
      }
    },
    {
      "cell_type": "markdown",
      "source": [
        "# Numpy\n",
        "\n",
        "Numpy is the standard library for doing numerical calculations for scientific purposes in python. It provides a new kind of data sructure called \"numpy array\". While it is more restrictive that normal python lists, it enables us to do vector operations which is (for the most part) much faster. It also provides a wide range of mathematical and statistical operations for the arrys. Let's import numpy and see some examples."
      ],
      "metadata": {
        "id": "DL-uBXefKbIS"
      }
    },
    {
      "cell_type": "code",
      "source": [
        "import numpy as np"
      ],
      "metadata": {
        "id": "B7kpoan6JsM8"
      },
      "execution_count": 2,
      "outputs": []
    },
    {
      "cell_type": "code",
      "source": [
        "a = np.array([1, 1, 2, 3, 5, 8, 13, 21, 34])\n",
        "print(a)"
      ],
      "metadata": {
        "colab": {
          "base_uri": "https://localhost:8080/"
        },
        "id": "DaElHodKQIz3",
        "outputId": "8b17980f-398b-4d29-aaf6-c7db38e075af"
      },
      "execution_count": 3,
      "outputs": [
        {
          "output_type": "stream",
          "name": "stdout",
          "text": [
            "[ 1  1  2  3  5  8 13 21 34]\n"
          ]
        }
      ]
    },
    {
      "cell_type": "code",
      "source": [
        "print(np.sum(a))"
      ],
      "metadata": {
        "colab": {
          "base_uri": "https://localhost:8080/"
        },
        "id": "nle3HxRYQVBp",
        "outputId": "0fbf3b25-70e4-4b79-b546-804afed56792"
      },
      "execution_count": 4,
      "outputs": [
        {
          "output_type": "stream",
          "name": "stdout",
          "text": [
            "88\n"
          ]
        }
      ]
    },
    {
      "cell_type": "code",
      "source": [
        "a.max()"
      ],
      "metadata": {
        "colab": {
          "base_uri": "https://localhost:8080/"
        },
        "id": "wusgbQ1KQae5",
        "outputId": "481ad096-9e04-48ef-a6f6-8b71dc9b618d"
      },
      "execution_count": 5,
      "outputs": [
        {
          "output_type": "execute_result",
          "data": {
            "text/plain": [
              "34"
            ]
          },
          "metadata": {},
          "execution_count": 5
        }
      ]
    },
    {
      "cell_type": "code",
      "source": [
        "a.mean()"
      ],
      "metadata": {
        "colab": {
          "base_uri": "https://localhost:8080/"
        },
        "id": "RkYpGT6PQf5R",
        "outputId": "284c1992-7b35-4f92-e099-fe3d534888b7"
      },
      "execution_count": 6,
      "outputs": [
        {
          "output_type": "execute_result",
          "data": {
            "text/plain": [
              "9.777777777777779"
            ]
          },
          "metadata": {},
          "execution_count": 6
        }
      ]
    },
    {
      "cell_type": "markdown",
      "source": [
        "And for some vectorized operations:"
      ],
      "metadata": {
        "id": "7R38qRnARVC0"
      }
    },
    {
      "cell_type": "code",
      "source": [
        "print(3 * a)"
      ],
      "metadata": {
        "colab": {
          "base_uri": "https://localhost:8080/"
        },
        "id": "SQ26mSiBQisy",
        "outputId": "7c9787ae-8bae-4ca9-d636-a2ff8e8c844a"
      },
      "execution_count": 7,
      "outputs": [
        {
          "output_type": "stream",
          "name": "stdout",
          "text": [
            "[  3   3   6   9  15  24  39  63 102]\n"
          ]
        }
      ]
    },
    {
      "cell_type": "code",
      "source": [
        "b = np.ones(len(a))\n",
        "print(b)\n"
      ],
      "metadata": {
        "colab": {
          "base_uri": "https://localhost:8080/"
        },
        "id": "5k_XVQbpReDR",
        "outputId": "fac511a2-3320-494f-da9f-db81dc1625c6"
      },
      "execution_count": 8,
      "outputs": [
        {
          "output_type": "stream",
          "name": "stdout",
          "text": [
            "[1. 1. 1. 1. 1. 1. 1. 1. 1.]\n"
          ]
        }
      ]
    },
    {
      "cell_type": "code",
      "source": [
        "print(a + b)"
      ],
      "metadata": {
        "colab": {
          "base_uri": "https://localhost:8080/"
        },
        "id": "yWAPPwt9Rkux",
        "outputId": "418f9e4a-1466-4277-f5ff-ad79bcbfdfec"
      },
      "execution_count": 9,
      "outputs": [
        {
          "output_type": "stream",
          "name": "stdout",
          "text": [
            "[ 2.  2.  3.  4.  6.  9. 14. 22. 35.]\n"
          ]
        }
      ]
    },
    {
      "cell_type": "code",
      "source": [
        "for i in range(len(a)):\n",
        "  print(a[i] + b[i])"
      ],
      "metadata": {
        "colab": {
          "base_uri": "https://localhost:8080/"
        },
        "id": "UcqXY3VrRpmz",
        "outputId": "f6a03880-3adc-466b-dc9c-139a84b36f9a"
      },
      "execution_count": 10,
      "outputs": [
        {
          "output_type": "stream",
          "name": "stdout",
          "text": [
            "2.0\n",
            "2.0\n",
            "3.0\n",
            "4.0\n",
            "6.0\n",
            "9.0\n",
            "14.0\n",
            "22.0\n",
            "35.0\n"
          ]
        }
      ]
    },
    {
      "cell_type": "markdown",
      "source": [
        "As you might have noticed, array \"a\" shows the first 9 Fibonacci numbers. Now write a piece of code to turn b into a."
      ],
      "metadata": {
        "id": "cKyYeSrzR0pp"
      }
    },
    {
      "cell_type": "code",
      "source": [
        "b = np.ones(len(a))\n",
        "for i in range (2, len(b)):\n",
        "  b[i] = b[i-1] + b[i-2]\n",
        "    \n",
        "print(b)"
      ],
      "metadata": {
        "id": "Z8eITGJVRxYq",
        "colab": {
          "base_uri": "https://localhost:8080/"
        },
        "outputId": "6cbbf383-19a8-4b6f-c8b1-c8e881f01fd2"
      },
      "execution_count": 11,
      "outputs": [
        {
          "output_type": "stream",
          "name": "stdout",
          "text": [
            "[ 1.  1.  2.  3.  5.  8. 13. 21. 34.]\n"
          ]
        }
      ]
    },
    {
      "cell_type": "markdown",
      "source": [
        "As another exercise, make a numpy array of size 100 using \"linspace\" between 0 and 2$\\pi$, and calculate the sine of each member in a vectorized manner and put it in a new array."
      ],
      "metadata": {
        "id": "spvEllTiSrS9"
      }
    },
    {
      "cell_type": "code",
      "source": [
        "x = np.linspace(0, 2*pi, 100)\n",
        "y = np.sin(x)"
      ],
      "metadata": {
        "id": "eNVqlpgMSjIJ"
      },
      "execution_count": 19,
      "outputs": []
    },
    {
      "cell_type": "markdown",
      "source": [
        "# Matplotlib\n",
        "\n",
        "Matplotlib is a library used for simple plotting. It is basically the python version of Matlab plot and is sufficient for most scientific purposes. There are also more advanced plotting libraries like \"Seaborn\" and \"Plotly\"."
      ],
      "metadata": {
        "id": "saZ3z0KYTUWj"
      }
    },
    {
      "cell_type": "code",
      "source": [
        "import matplotlib.pyplot as plt"
      ],
      "metadata": {
        "id": "02HbUlGcTV8A"
      },
      "execution_count": null,
      "outputs": []
    },
    {
      "cell_type": "markdown",
      "source": [
        "Now lt's plot the sine function we made above"
      ],
      "metadata": {
        "id": "lQFAQDrL7wSF"
      }
    },
    {
      "cell_type": "code",
      "source": [
        "plt.plot(x, y)\n",
        "plt.xlabel('x axis', fontsize=15)\n",
        "plt.ylabel('y axis', fontsize=15)\n",
        "plt.plot(label='sin(x)')\n"
      ],
      "metadata": {
        "colab": {
          "base_uri": "https://localhost:8080/",
          "height": 302
        },
        "id": "r9TQM6lx7OE6",
        "outputId": "2f56a002-8750-45ce-d400-3cd4077f4c64"
      },
      "execution_count": null,
      "outputs": [
        {
          "output_type": "execute_result",
          "data": {
            "text/plain": [
              "[]"
            ]
          },
          "metadata": {},
          "execution_count": 90
        },
        {
          "output_type": "display_data",
          "data": {
            "image/png": "[encoded data removed]",
            "text/plain": [
              "<Figure size 432x288 with 1 Axes>"
            ]
          },
          "metadata": {
            "needs_background": "light"
          }
        }
      ]
    },
    {
      "cell_type": "markdown",
      "source": [
        "This is the basic plotting function. you can add labels, legends, change fonts, etc..\n",
        "\n",
        "As an exercise, add labels for the x and y axes to the plot above, and also label the line."
      ],
      "metadata": {
        "id": "CXqyajxWB8B9"
      }
    },
    {
      "cell_type": "markdown",
      "source": [
        "# Reading and writing files using numpy"
      ],
      "metadata": {
        "id": "iFsiIHEhCTV1"
      }
    },
    {
      "cell_type": "markdown",
      "source": [
        "For reading and writing text files with numpy, we can use \"readtxt\" and \"savetxt\" commands. Let's see some examples."
      ],
      "metadata": {
        "id": "YvU9h3qB4mTh"
      }
    },
    {
      "cell_type": "code",
      "source": [
        "data_to_save = np.column_stack((x, y))\n",
        "plot = np.savetxt('sine_function', data_to_save, header = 'sine of x')\n"
      ],
      "metadata": {
        "id": "2F9Aj3U2B5lm"
      },
      "execution_count": 20,
      "outputs": []
    },
    {
      "cell_type": "code",
      "source": [
        "?np.loadtxt"
      ],
      "metadata": {
        "id": "gLDYfgmjYv_f"
      },
      "execution_count": 21,
      "outputs": []
    },
    {
      "cell_type": "markdown",
      "source": [
        "Now for exercise, try to save the data with a header."
      ],
      "metadata": {
        "id": "za8hZb0-6JQA"
      }
    },
    {
      "cell_type": "code",
      "source": [
        "data_to_read = np.loadtxt('sine_function',)\n",
        "x, y = np.loadtxt('sine_function',unpack=True)"
      ],
      "metadata": {
        "id": "PTbnSI7f5fFm"
      },
      "execution_count": 26,
      "outputs": []
    },
    {
      "cell_type": "markdown",
      "source": [
        "To see whether it's the same data or not, we can plot it."
      ],
      "metadata": {
        "id": "E-Kk80Rx6cz_"
      }
    },
    {
      "cell_type": "code",
      "source": [
        "plt.plot(data_to_read[:,0], data_to_read[:,1])\n",
        "#plt.title('sine of x')"
      ],
      "metadata": {
        "colab": {
          "base_uri": "https://localhost:8080/",
          "height": 300
        },
        "id": "XAxnOkuY6bs8",
        "outputId": "0596981e-3012-4eb3-ab43-c6d34d3de965"
      },
      "execution_count": null,
      "outputs": [
        {
          "output_type": "execute_result",
          "data": {
            "text/plain": [
              "Text(0.5, 1.0, 'sine of x')"
            ]
          },
          "metadata": {},
          "execution_count": 41
        },
        {
          "output_type": "display_data",
          "data": {
            "image/png": "[encoded data removed]",
            "text/plain": [
              "<Figure size 432x288 with 1 Axes>"
            ]
          },
          "metadata": {
            "needs_background": "light"
          }
        }
      ]
    },
    {
      "cell_type": "markdown",
      "source": [
        "Now as an exercise, try to read the file into twe seperate variables. (insted of having just \"data_to_read\" read it into \"x\" and \"y\", each corresponding to an axis."
      ],
      "metadata": {
        "id": "6GeMrWtQ7DPQ"
      }
    },
    {
      "cell_type": "markdown",
      "source": [
        "# Functions"
      ],
      "metadata": {
        "id": "xmDKg62f7W_7"
      }
    },
    {
      "cell_type": "markdown",
      "source": [
        "Functions in python, are defined using the command \"def\". If a variable is defined inside of a function, when we run that function, the variable is local and it's value is lost when we retrun the function. On the other hand if we do not define a variable tha we use in a function, function tries to read a globally defined variable with the same name. If it is not defined before running the function, we will see an error.\n",
        "\n",
        "As an example, let's define a function that returns the sum of two input variables."
      ],
      "metadata": {
        "id": "PxzTkElg7g6U"
      }
    },
    {
      "cell_type": "code",
      "source": [
        "def my_sum_function(x, y):\n",
        "  return x + y"
      ],
      "metadata": {
        "id": "AyPpaWAa6tn4"
      },
      "execution_count": null,
      "outputs": []
    },
    {
      "cell_type": "code",
      "source": [
        "my_sum_function(10, 12)"
      ],
      "metadata": {
        "colab": {
          "base_uri": "https://localhost:8080/"
        },
        "id": "ei-6Gq_B8xCO",
        "outputId": "4d1addbf-d5bf-41ea-bb94-4cf234880bd3"
      },
      "execution_count": null,
      "outputs": [
        {
          "output_type": "execute_result",
          "data": {
            "text/plain": [
              "22"
            ]
          },
          "metadata": {},
          "execution_count": 108
        }
      ]
    },
    {
      "cell_type": "markdown",
      "source": [
        "Now try to write a function that reads a number N and returns the Nth Fibonacci number."
      ],
      "metadata": {
        "id": "8KL1PUGt81cZ"
      }
    },
    {
      "cell_type": "code",
      "source": [
        "def Fibonacci(N):\n",
        "  F1 = 1\n",
        "  F2 = 1\n",
        "  if N <= 2:\n",
        "    return 1\n",
        "  \n",
        "  for i in range(N - 2):\n",
        "    F1, F2 = F2, F1 + F2\n",
        "\n",
        "  return F2\n",
        "print(Fibonacci(3))"
      ],
      "metadata": {
        "id": "mEabqHWb80ak",
        "colab": {
          "base_uri": "https://localhost:8080/"
        },
        "outputId": "fc6f336c-123b-4b11-a2a4-3c79db9d90f7"
      },
      "execution_count": 25,
      "outputs": [
        {
          "output_type": "stream",
          "name": "stdout",
          "text": [
            "2\n"
          ]
        }
      ]
    }
  ]
}